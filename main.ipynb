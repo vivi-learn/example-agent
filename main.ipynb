{
 "cells": [
  {
   "cell_type": "code",
   "execution_count": null,
   "id": "bace44fd",
   "metadata": {},
   "outputs": [],
   "source": [
    "import firecrawl"
   ]
  }
 ],
 "metadata": {
  "kernelspec": {
   "display_name": "example-agent",
   "language": "python",
   "name": "python3"
  },
  "language_info": {
   "name": "python",
   "version": "3.12.11"
  }
 },
 "nbformat": 4,
 "nbformat_minor": 5
}
